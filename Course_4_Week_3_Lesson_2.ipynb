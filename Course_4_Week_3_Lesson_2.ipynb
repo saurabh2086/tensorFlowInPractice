{
  "nbformat": 4,
  "nbformat_minor": 0,
  "metadata": {
    "colab": {
      "name": "Course_4_Week_3_Lesson_2.ipynb",
      "version": "0.3.2",
      "provenance": [],
      "collapsed_sections": [],
      "include_colab_link": true
    },
    "kernelspec": {
      "name": "python3",
      "display_name": "Python 3"
    },
    "accelerator": "GPU"
  },
  "cells": [
    {
      "cell_type": "markdown",
      "metadata": {
        "id": "view-in-github",
        "colab_type": "text"
      },
      "source": [
        "<a href=\"https://colab.research.google.com/github/saurabh2086/tensorFlowInPractice/blob/master/Course_4_Week_3_Lesson_2.ipynb\" target=\"_parent\"><img src=\"https://colab.research.google.com/assets/colab-badge.svg\" alt=\"Open In Colab\"/></a>"
      ]
    },
    {
      "cell_type": "code",
      "metadata": {
        "id": "Ndpx4QBc4E3h",
        "colab_type": "code",
        "colab": {}
      },
      "source": [
        "import json\n",
        "import tensorflow as tf\n",
        "\n",
        "from tensorflow.keras.preprocessing.text import Tokenizer\n",
        "from tensorflow.keras.preprocessing.sequence import pad_sequences"
      ],
      "execution_count": 0,
      "outputs": []
    },
    {
      "cell_type": "code",
      "metadata": {
        "id": "Q4cCCrMt4KCN",
        "colab_type": "code",
        "colab": {
          "base_uri": "https://localhost:8080/",
          "height": 208
        },
        "outputId": "c6e19e37-11ca-44af-f935-e89cfe9d7fa3"
      },
      "source": [
        "!wget --no-check-certificate \\\n",
        "    https://storage.googleapis.com/laurencemoroney-blog.appspot.com/sarcasm.json \\\n",
        "    -O /tmp/sarcasm.json\n"
      ],
      "execution_count": 2,
      "outputs": [
        {
          "output_type": "stream",
          "text": [
            "--2019-07-06 01:23:17--  https://storage.googleapis.com/laurencemoroney-blog.appspot.com/sarcasm.json\n",
            "Resolving storage.googleapis.com (storage.googleapis.com)... 74.125.132.128, 2607:f8b0:4001:c05::80\n",
            "Connecting to storage.googleapis.com (storage.googleapis.com)|74.125.132.128|:443... connected.\n",
            "HTTP request sent, awaiting response... 200 OK\n",
            "Length: 5643545 (5.4M) [application/json]\n",
            "Saving to: ‘/tmp/sarcasm.json’\n",
            "\n",
            "\r/tmp/sarcasm.json     0%[                    ]       0  --.-KB/s               \r/tmp/sarcasm.json   100%[===================>]   5.38M  --.-KB/s    in 0.03s   \n",
            "\n",
            "2019-07-06 01:23:17 (169 MB/s) - ‘/tmp/sarcasm.json’ saved [5643545/5643545]\n",
            "\n"
          ],
          "name": "stdout"
        }
      ]
    },
    {
      "cell_type": "code",
      "metadata": {
        "id": "EQuSB8H04P-b",
        "colab_type": "code",
        "colab": {}
      },
      "source": [
        "vocab_size = 1000\n",
        "embedding_dim = 16\n",
        "max_length = 120\n",
        "trunc_type='post'\n",
        "padding_type='post'\n",
        "oov_tok = \"<OOV>\"\n",
        "training_size = 20000\n",
        "\n",
        "with open(\"/tmp/sarcasm.json\", 'r') as f:\n",
        "    datastore = json.load(f)"
      ],
      "execution_count": 0,
      "outputs": []
    },
    {
      "cell_type": "code",
      "metadata": {
        "id": "-76lUp9u4YVQ",
        "colab_type": "code",
        "colab": {
          "base_uri": "https://localhost:8080/",
          "height": 277
        },
        "outputId": "643ced06-4d28-4525-f613-5e21e877287c"
      },
      "source": [
        "datastore[0:5]"
      ],
      "execution_count": 5,
      "outputs": [
        {
          "output_type": "execute_result",
          "data": {
            "text/plain": [
              "[{'article_link': 'https://www.huffingtonpost.com/entry/versace-black-code_us_5861fbefe4b0de3a08f600d5',\n",
              "  'headline': \"former versace store clerk sues over secret 'black code' for minority shoppers\",\n",
              "  'is_sarcastic': 0},\n",
              " {'article_link': 'https://www.huffingtonpost.com/entry/roseanne-revival-review_us_5ab3a497e4b054d118e04365',\n",
              "  'headline': \"the 'roseanne' revival catches up to our thorny political mood, for better and worse\",\n",
              "  'is_sarcastic': 0},\n",
              " {'article_link': 'https://local.theonion.com/mom-starting-to-fear-son-s-web-series-closest-thing-she-1819576697',\n",
              "  'headline': \"mom starting to fear son's web series closest thing she will have to grandchild\",\n",
              "  'is_sarcastic': 1},\n",
              " {'article_link': 'https://politics.theonion.com/boehner-just-wants-wife-to-listen-not-come-up-with-alt-1819574302',\n",
              "  'headline': 'boehner just wants wife to listen, not come up with alternative debt-reduction ideas',\n",
              "  'is_sarcastic': 1},\n",
              " {'article_link': 'https://www.huffingtonpost.com/entry/jk-rowling-wishes-snape-happy-birthday_us_569117c4e4b0cad15e64fdcb',\n",
              "  'headline': 'j.k. rowling wishes snape happy birthday in the most magical way',\n",
              "  'is_sarcastic': 0}]"
            ]
          },
          "metadata": {
            "tags": []
          },
          "execution_count": 5
        }
      ]
    },
    {
      "cell_type": "code",
      "metadata": {
        "id": "KmbDcU6Q4mmM",
        "colab_type": "code",
        "colab": {}
      },
      "source": [
        "# extracting headlines and labels \n",
        "sentences = []\n",
        "labels =[]\n",
        "url = []\n",
        "\n",
        "for item in datastore:\n",
        "  sentences.append(item['headline'])\n",
        "  labels.append(item['is_sarcastic'])"
      ],
      "execution_count": 0,
      "outputs": []
    },
    {
      "cell_type": "code",
      "metadata": {
        "id": "7iQbEIMp5CBz",
        "colab_type": "code",
        "colab": {}
      },
      "source": [
        "# creating training data, testing data and their labels\n",
        "training_sentences = sentences[0:training_size]\n",
        "testing_sentences = sentences[training_size:]\n",
        "training_labels = labels[0:training_size]\n",
        "testing_labels = labels[training_size:]"
      ],
      "execution_count": 0,
      "outputs": []
    },
    {
      "cell_type": "code",
      "metadata": {
        "id": "dnJpn75t5swP",
        "colab_type": "code",
        "colab": {}
      },
      "source": [
        "# tokenizing the sentence\n",
        "tokenizer = Tokenizer(num_words=vocab_size, oov_token=oov_tok)\n",
        "tokenizer.fit_on_texts(training_sentences)\n",
        "\n",
        "# taking out the word index\n",
        "word_index = tokenizer.word_index\n",
        "\n",
        "# convert training sentences to training sequences\n",
        "training_sequences = tokenizer.texts_to_sequences(training_sentences)\n",
        "testing_sequences = tokenizer.texts_to_sequences(testing_sentences)\n",
        "\n",
        "# padding the sequences and truncating long sentences\n",
        "training_padded = pad_sequences(training_sequences, maxlen=max_length, padding=padding_type, truncating=trunc_type)\n",
        "testing_padded  = pad_sequences(testing_sequences, maxlen=max_length, padding=padding_type, truncating=trunc_type)"
      ],
      "execution_count": 0,
      "outputs": []
    },
    {
      "cell_type": "code",
      "metadata": {
        "id": "xBzr6LZn7INg",
        "colab_type": "code",
        "colab": {}
      },
      "source": [
        "model = tf.keras.Sequential([\n",
        "    tf.keras.layers.Embedding(vocab_size, embedding_dim, input_length=max_length),\n",
        "    tf.keras.layers.Bidirectional(tf.keras.layers.LSTM(32)),\n",
        "    tf.keras.layers.Dense(24, activation='relu'),\n",
        "    tf.keras.layers.Dense(1, activation='sigmoid')\n",
        "])"
      ],
      "execution_count": 0,
      "outputs": []
    },
    {
      "cell_type": "code",
      "metadata": {
        "id": "pM8kMiLh8p0j",
        "colab_type": "code",
        "colab": {}
      },
      "source": [
        "# compile the model\n",
        "model.compile(loss='binary_crossentropy', optimizer='adam', metrics=['accuracy'])"
      ],
      "execution_count": 0,
      "outputs": []
    },
    {
      "cell_type": "code",
      "metadata": {
        "id": "dGleXO2e8gAY",
        "colab_type": "code",
        "colab": {
          "base_uri": "https://localhost:8080/",
          "height": 295
        },
        "outputId": "d8cf4efe-97df-4b17-9892-b1eb2c1819f4"
      },
      "source": [
        "model.summary()"
      ],
      "execution_count": 18,
      "outputs": [
        {
          "output_type": "stream",
          "text": [
            "Model: \"sequential\"\n",
            "_________________________________________________________________\n",
            "Layer (type)                 Output Shape              Param #   \n",
            "=================================================================\n",
            "embedding (Embedding)        (None, 120, 16)           16000     \n",
            "_________________________________________________________________\n",
            "bidirectional (Bidirectional (None, 64)                12544     \n",
            "_________________________________________________________________\n",
            "dense (Dense)                (None, 24)                1560      \n",
            "_________________________________________________________________\n",
            "dense_1 (Dense)              (None, 1)                 25        \n",
            "=================================================================\n",
            "Total params: 30,129\n",
            "Trainable params: 30,129\n",
            "Non-trainable params: 0\n",
            "_________________________________________________________________\n"
          ],
          "name": "stdout"
        }
      ]
    },
    {
      "cell_type": "code",
      "metadata": {
        "id": "wLM4kBXz8mX_",
        "colab_type": "code",
        "colab": {
          "base_uri": "https://localhost:8080/",
          "height": 1000
        },
        "outputId": "165b6295-bf79-49de-c5f7-b6e84976f14f"
      },
      "source": [
        "# training the model\n",
        "num_epochs = 50\n",
        "history = model.fit(training_padded, training_labels, epochs=num_epochs, validation_data=(testing_padded, testing_labels), verbose=1)"
      ],
      "execution_count": 22,
      "outputs": [
        {
          "output_type": "stream",
          "text": [
            "WARNING: Logging before flag parsing goes to stderr.\n",
            "W0706 01:45:51.745267 140055400781696 deprecation.py:323] From /usr/local/lib/python3.6/dist-packages/tensorflow/python/ops/math_grad.py:1250: add_dispatch_support.<locals>.wrapper (from tensorflow.python.ops.array_ops) is deprecated and will be removed in a future version.\n",
            "Instructions for updating:\n",
            "Use tf.where in 2.0, which has the same broadcast rule as np.where\n"
          ],
          "name": "stderr"
        },
        {
          "output_type": "stream",
          "text": [
            "Train on 20000 samples, validate on 6709 samples\n",
            "Epoch 1/50\n",
            "20000/20000 [==============================] - 46s 2ms/sample - loss: 0.4613 - accuracy: 0.7616 - val_loss: 0.3936 - val_accuracy: 0.8171\n",
            "Epoch 2/50\n",
            "20000/20000 [==============================] - 45s 2ms/sample - loss: 0.3596 - accuracy: 0.8349 - val_loss: 0.3820 - val_accuracy: 0.8272\n",
            "Epoch 3/50\n",
            "20000/20000 [==============================] - 45s 2ms/sample - loss: 0.3346 - accuracy: 0.8491 - val_loss: 0.3740 - val_accuracy: 0.8281\n",
            "Epoch 4/50\n",
            "20000/20000 [==============================] - 45s 2ms/sample - loss: 0.3172 - accuracy: 0.8576 - val_loss: 0.3833 - val_accuracy: 0.8255\n",
            "Epoch 5/50\n",
            "20000/20000 [==============================] - 45s 2ms/sample - loss: 0.3082 - accuracy: 0.8621 - val_loss: 0.3863 - val_accuracy: 0.8299\n",
            "Epoch 6/50\n",
            "20000/20000 [==============================] - 44s 2ms/sample - loss: 0.2976 - accuracy: 0.8663 - val_loss: 0.3826 - val_accuracy: 0.8326\n",
            "Epoch 7/50\n",
            "20000/20000 [==============================] - 45s 2ms/sample - loss: 0.2886 - accuracy: 0.8723 - val_loss: 0.3961 - val_accuracy: 0.8265\n",
            "Epoch 8/50\n",
            "20000/20000 [==============================] - 44s 2ms/sample - loss: 0.2804 - accuracy: 0.8763 - val_loss: 0.3852 - val_accuracy: 0.8287\n",
            "Epoch 9/50\n",
            "20000/20000 [==============================] - 44s 2ms/sample - loss: 0.2752 - accuracy: 0.8816 - val_loss: 0.3829 - val_accuracy: 0.8275\n",
            "Epoch 10/50\n",
            "20000/20000 [==============================] - 44s 2ms/sample - loss: 0.2694 - accuracy: 0.8833 - val_loss: 0.3851 - val_accuracy: 0.8325\n",
            "Epoch 11/50\n",
            "20000/20000 [==============================] - 44s 2ms/sample - loss: 0.2626 - accuracy: 0.8859 - val_loss: 0.4013 - val_accuracy: 0.8277\n",
            "Epoch 12/50\n",
            "20000/20000 [==============================] - 44s 2ms/sample - loss: 0.2561 - accuracy: 0.8899 - val_loss: 0.4073 - val_accuracy: 0.8281\n",
            "Epoch 13/50\n",
            "20000/20000 [==============================] - 42s 2ms/sample - loss: 0.2512 - accuracy: 0.8916 - val_loss: 0.4070 - val_accuracy: 0.8246\n",
            "Epoch 14/50\n",
            "20000/20000 [==============================] - 42s 2ms/sample - loss: 0.2451 - accuracy: 0.8932 - val_loss: 0.4229 - val_accuracy: 0.8269\n",
            "Epoch 15/50\n",
            "20000/20000 [==============================] - 42s 2ms/sample - loss: 0.2384 - accuracy: 0.8978 - val_loss: 0.4384 - val_accuracy: 0.8238\n",
            "Epoch 16/50\n",
            "20000/20000 [==============================] - 42s 2ms/sample - loss: 0.2291 - accuracy: 0.9025 - val_loss: 0.4680 - val_accuracy: 0.8232\n",
            "Epoch 17/50\n",
            "20000/20000 [==============================] - 42s 2ms/sample - loss: 0.2230 - accuracy: 0.9050 - val_loss: 0.4457 - val_accuracy: 0.8228\n",
            "Epoch 18/50\n",
            "20000/20000 [==============================] - 42s 2ms/sample - loss: 0.2147 - accuracy: 0.9102 - val_loss: 0.4920 - val_accuracy: 0.8171\n",
            "Epoch 19/50\n",
            "20000/20000 [==============================] - 42s 2ms/sample - loss: 0.2052 - accuracy: 0.9129 - val_loss: 0.4903 - val_accuracy: 0.8202\n",
            "Epoch 20/50\n",
            "20000/20000 [==============================] - 45s 2ms/sample - loss: 0.1965 - accuracy: 0.9168 - val_loss: 0.5142 - val_accuracy: 0.8138\n",
            "Epoch 21/50\n",
            "20000/20000 [==============================] - 44s 2ms/sample - loss: 0.1913 - accuracy: 0.9204 - val_loss: 0.5525 - val_accuracy: 0.8170\n",
            "Epoch 22/50\n",
            "20000/20000 [==============================] - 43s 2ms/sample - loss: 0.1805 - accuracy: 0.9250 - val_loss: 0.5734 - val_accuracy: 0.8119\n",
            "Epoch 23/50\n",
            "20000/20000 [==============================] - 43s 2ms/sample - loss: 0.1718 - accuracy: 0.9276 - val_loss: 0.6100 - val_accuracy: 0.8146\n",
            "Epoch 24/50\n",
            "20000/20000 [==============================] - 43s 2ms/sample - loss: 0.1627 - accuracy: 0.9329 - val_loss: 0.6965 - val_accuracy: 0.8098\n",
            "Epoch 25/50\n",
            "20000/20000 [==============================] - 42s 2ms/sample - loss: 0.1549 - accuracy: 0.9355 - val_loss: 0.6926 - val_accuracy: 0.8100\n",
            "Epoch 26/50\n",
            "20000/20000 [==============================] - 43s 2ms/sample - loss: 0.1472 - accuracy: 0.9383 - val_loss: 0.7343 - val_accuracy: 0.8050\n",
            "Epoch 27/50\n",
            "20000/20000 [==============================] - 42s 2ms/sample - loss: 0.1385 - accuracy: 0.9435 - val_loss: 0.8003 - val_accuracy: 0.8082\n",
            "Epoch 28/50\n",
            "20000/20000 [==============================] - 43s 2ms/sample - loss: 0.1320 - accuracy: 0.9456 - val_loss: 0.7449 - val_accuracy: 0.8047\n",
            "Epoch 29/50\n",
            "20000/20000 [==============================] - 43s 2ms/sample - loss: 0.1274 - accuracy: 0.9464 - val_loss: 0.8692 - val_accuracy: 0.8056\n",
            "Epoch 30/50\n",
            "20000/20000 [==============================] - 43s 2ms/sample - loss: 0.1214 - accuracy: 0.9483 - val_loss: 0.9005 - val_accuracy: 0.8062\n",
            "Epoch 31/50\n",
            "20000/20000 [==============================] - 43s 2ms/sample - loss: 0.1142 - accuracy: 0.9517 - val_loss: 0.8952 - val_accuracy: 0.8046\n",
            "Epoch 32/50\n",
            "20000/20000 [==============================] - 42s 2ms/sample - loss: 0.1080 - accuracy: 0.9548 - val_loss: 1.0250 - val_accuracy: 0.8044\n",
            "Epoch 33/50\n",
            "20000/20000 [==============================] - 43s 2ms/sample - loss: 0.1054 - accuracy: 0.9554 - val_loss: 1.0039 - val_accuracy: 0.7995\n",
            "Epoch 34/50\n",
            "20000/20000 [==============================] - 42s 2ms/sample - loss: 0.0982 - accuracy: 0.9592 - val_loss: 1.0121 - val_accuracy: 0.8030\n",
            "Epoch 35/50\n",
            "20000/20000 [==============================] - 43s 2ms/sample - loss: 0.0948 - accuracy: 0.9592 - val_loss: 1.1083 - val_accuracy: 0.8032\n",
            "Epoch 36/50\n",
            "20000/20000 [==============================] - 43s 2ms/sample - loss: 0.0919 - accuracy: 0.9604 - val_loss: 1.0849 - val_accuracy: 0.7968\n",
            "Epoch 37/50\n",
            "20000/20000 [==============================] - 43s 2ms/sample - loss: 0.0845 - accuracy: 0.9635 - val_loss: 1.2242 - val_accuracy: 0.8030\n",
            "Epoch 38/50\n",
            "20000/20000 [==============================] - 43s 2ms/sample - loss: 0.0838 - accuracy: 0.9643 - val_loss: 1.2191 - val_accuracy: 0.8040\n",
            "Epoch 39/50\n",
            "20000/20000 [==============================] - 43s 2ms/sample - loss: 0.0793 - accuracy: 0.9653 - val_loss: 1.1687 - val_accuracy: 0.8037\n",
            "Epoch 40/50\n",
            "20000/20000 [==============================] - 43s 2ms/sample - loss: 0.0769 - accuracy: 0.9655 - val_loss: 1.3139 - val_accuracy: 0.7942\n",
            "Epoch 41/50\n",
            "20000/20000 [==============================] - 44s 2ms/sample - loss: 0.0760 - accuracy: 0.9660 - val_loss: 1.2687 - val_accuracy: 0.8028\n",
            "Epoch 42/50\n",
            "20000/20000 [==============================] - 44s 2ms/sample - loss: 0.0762 - accuracy: 0.9671 - val_loss: 1.3027 - val_accuracy: 0.8009\n",
            "Epoch 43/50\n",
            "20000/20000 [==============================] - 48s 2ms/sample - loss: 0.0706 - accuracy: 0.9681 - val_loss: 1.2908 - val_accuracy: 0.7979\n",
            "Epoch 44/50\n",
            "20000/20000 [==============================] - 45s 2ms/sample - loss: 0.0645 - accuracy: 0.9714 - val_loss: 1.4098 - val_accuracy: 0.7976\n",
            "Epoch 45/50\n",
            "20000/20000 [==============================] - 48s 2ms/sample - loss: 0.0612 - accuracy: 0.9714 - val_loss: 1.4789 - val_accuracy: 0.8016\n",
            "Epoch 46/50\n",
            "20000/20000 [==============================] - 49s 2ms/sample - loss: 0.0608 - accuracy: 0.9727 - val_loss: 1.4267 - val_accuracy: 0.7943\n",
            "Epoch 47/50\n",
            "20000/20000 [==============================] - 48s 2ms/sample - loss: 0.0659 - accuracy: 0.9704 - val_loss: 1.4465 - val_accuracy: 0.8006\n",
            "Epoch 48/50\n",
            "20000/20000 [==============================] - 45s 2ms/sample - loss: 0.0634 - accuracy: 0.9729 - val_loss: 1.4131 - val_accuracy: 0.7983\n",
            "Epoch 49/50\n",
            "20000/20000 [==============================] - 43s 2ms/sample - loss: 0.0618 - accuracy: 0.9727 - val_loss: 1.4713 - val_accuracy: 0.8012\n",
            "Epoch 50/50\n",
            "20000/20000 [==============================] - 43s 2ms/sample - loss: 0.0575 - accuracy: 0.9754 - val_loss: 1.4269 - val_accuracy: 0.8000\n"
          ],
          "name": "stdout"
        }
      ]
    },
    {
      "cell_type": "code",
      "metadata": {
        "id": "H72Y7_oaJelx",
        "colab_type": "code",
        "colab": {
          "base_uri": "https://localhost:8080/",
          "height": 35
        },
        "outputId": "f043051e-e182-491f-d3da-bb68ec1d1a5a"
      },
      "source": [
        "history.history.keys()"
      ],
      "execution_count": 26,
      "outputs": [
        {
          "output_type": "execute_result",
          "data": {
            "text/plain": [
              "dict_keys(['loss', 'accuracy', 'val_loss', 'val_accuracy'])"
            ]
          },
          "metadata": {
            "tags": []
          },
          "execution_count": 26
        }
      ]
    },
    {
      "cell_type": "code",
      "metadata": {
        "id": "g9DC6dmLF8DC",
        "colab_type": "code",
        "colab": {
          "base_uri": "https://localhost:8080/",
          "height": 549
        },
        "outputId": "47dd8388-4021-461d-fcb6-494de3e8c61a"
      },
      "source": [
        "import matplotlib.pyplot as plt\n",
        "\n",
        "\n",
        "def plot_graphs(history, string):\n",
        "  plt.plot(history.history[string])\n",
        "  plt.plot(history.history['val_'+string])\n",
        "  plt.xlabel(\"Epochs\")\n",
        "  plt.ylabel(string)\n",
        "  plt.legend([string, 'val_'+string])\n",
        "  plt.show()\n",
        "\n",
        "plot_graphs(history, 'accuracy')\n",
        "plot_graphs(history, 'loss')"
      ],
      "execution_count": 27,
      "outputs": [
        {
          "output_type": "display_data",
          "data": {
            "image/png": "[encoded data removed]",
            "text/plain": [
              "<Figure size 432x288 with 1 Axes>"
            ]
          },
          "metadata": {
            "tags": []
          }
        },
        {
          "output_type": "display_data",
          "data": {
            "image/png": "[encoded data removed]",
            "text/plain": [
              "<Figure size 432x288 with 1 Axes>"
            ]
          },
          "metadata": {
            "tags": []
          }
        }
      ]
    },
    {
      "cell_type": "code",
      "metadata": {
        "id": "7ZEZIUppGhdi",
        "colab_type": "code",
        "colab": {}
      },
      "source": [
        "model.save(\"test.h5\")"
      ],
      "execution_count": 0,
      "outputs": []
    },
    {
      "cell_type": "code",
      "metadata": {
        "id": "4t3ZQ8e4Jb3H",
        "colab_type": "code",
        "colab": {}
      },
      "source": [
        ""
      ],
      "execution_count": 0,
      "outputs": []
    }
  ]
}