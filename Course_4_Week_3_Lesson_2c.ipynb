{
  "nbformat": 4,
  "nbformat_minor": 0,
  "metadata": {
    "colab": {
      "name": "Course_4_Week_3_Lesson_2c.ipynb",
      "version": "0.3.2",
      "provenance": [],
      "collapsed_sections": [],
      "include_colab_link": true
    },
    "kernelspec": {
      "name": "python3",
      "display_name": "Python 3"
    },
    "accelerator": "GPU"
  },
  "cells": [
    {
      "cell_type": "markdown",
      "metadata": {
        "id": "view-in-github",
        "colab_type": "text"
      },
      "source": [
        "<a href=\"https://colab.research.google.com/github/saurabh2086/tensorFlowInPractice/blob/master/Course_4_Week_3_Lesson_2c.ipynb\" target=\"_parent\"><img src=\"https://colab.research.google.com/assets/colab-badge.svg\" alt=\"Open In Colab\"/></a>"
      ]
    },
    {
      "cell_type": "code",
      "metadata": {
        "id": "jGwXGIXvFhXW",
        "colab_type": "code",
        "colab": {
          "base_uri": "https://localhost:8080/",
          "height": 1000
        },
        "outputId": "6299ce25-d27c-4a64-a927-a7771f6fb78c"
      },
      "source": [
        "import json\n",
        "import tensorflow as tf\n",
        "\n",
        "from tensorflow.keras.preprocessing.text import Tokenizer\n",
        "from tensorflow.keras.preprocessing.sequence import pad_sequences\n",
        "\n",
        "!wget --no-check-certificate \\\n",
        "    https://storage.googleapis.com/laurencemoroney-blog.appspot.com/sarcasm.json \\\n",
        "    -O /tmp/sarcasm.json\n",
        "\n",
        "vocab_size = 1000\n",
        "embedding_dim = 16\n",
        "max_length = 120\n",
        "trunc_type='post'\n",
        "padding_type='post'\n",
        "oov_tok = \"<OOV>\"\n",
        "training_size = 20000\n",
        "\n",
        "\n",
        "with open(\"/tmp/sarcasm.json\", 'r') as f:\n",
        "    datastore = json.load(f)\n",
        "\n",
        "\n",
        "sentences = []\n",
        "labels = []\n",
        "urls = []\n",
        "for item in datastore:\n",
        "    sentences.append(item['headline'])\n",
        "    labels.append(item['is_sarcastic'])\n",
        "\n",
        "training_sentences = sentences[0:training_size]\n",
        "testing_sentences = sentences[training_size:]\n",
        "training_labels = labels[0:training_size]\n",
        "testing_labels = labels[training_size:]\n",
        "\n",
        "tokenizer = Tokenizer(num_words=vocab_size, oov_token=oov_tok)\n",
        "tokenizer.fit_on_texts(training_sentences)\n",
        "\n",
        "word_index = tokenizer.word_index\n",
        "\n",
        "training_sequences = tokenizer.texts_to_sequences(training_sentences)\n",
        "training_padded = pad_sequences(training_sequences, maxlen=max_length, padding=padding_type, truncating=trunc_type)\n",
        "\n",
        "testing_sequences = tokenizer.texts_to_sequences(testing_sentences)\n",
        "testing_padded = pad_sequences(testing_sequences, maxlen=max_length, padding=padding_type, truncating=trunc_type)\n",
        "\n",
        "model = tf.keras.Sequential([\n",
        "    tf.keras.layers.Embedding(vocab_size, embedding_dim, input_length=max_length),\n",
        "    tf.keras.layers.Conv1D(128, 5, activation='relu'),\n",
        "    tf.keras.layers.GlobalMaxPooling1D(),\n",
        "    tf.keras.layers.Dense(24, activation='relu'),\n",
        "    tf.keras.layers.Dense(1, activation='sigmoid')\n",
        "])\n",
        "model.compile(loss='binary_crossentropy',optimizer='adam',metrics=['accuracy'])\n",
        "model.summary()\n",
        "\n",
        "num_epochs = 50\n",
        "history = model.fit(training_padded, training_labels, epochs=num_epochs, validation_data=(testing_padded, testing_labels), verbose=1)\n",
        "\n"
      ],
      "execution_count": 1,
      "outputs": [
        {
          "output_type": "stream",
          "text": [
            "--2019-07-06 03:54:27--  https://storage.googleapis.com/laurencemoroney-blog.appspot.com/sarcasm.json\n",
            "Resolving storage.googleapis.com (storage.googleapis.com)... 108.177.120.128, 2607:f8b0:4001:c0b::80\n",
            "Connecting to storage.googleapis.com (storage.googleapis.com)|108.177.120.128|:443... connected.\n",
            "HTTP request sent, awaiting response... 200 OK\n",
            "Length: 5643545 (5.4M) [application/json]\n",
            "Saving to: ‘/tmp/sarcasm.json’\n",
            "\n",
            "\r/tmp/sarcasm.json     0%[                    ]       0  --.-KB/s               \r/tmp/sarcasm.json   100%[===================>]   5.38M  --.-KB/s    in 0.08s   \n",
            "\n",
            "2019-07-06 03:54:27 (67.2 MB/s) - ‘/tmp/sarcasm.json’ saved [5643545/5643545]\n",
            "\n"
          ],
          "name": "stdout"
        },
        {
          "output_type": "stream",
          "text": [
            "WARNING: Logging before flag parsing goes to stderr.\n",
            "W0706 03:54:29.643786 139940457506688 deprecation.py:323] From /usr/local/lib/python3.6/dist-packages/tensorflow/python/ops/math_grad.py:1250: add_dispatch_support.<locals>.wrapper (from tensorflow.python.ops.array_ops) is deprecated and will be removed in a future version.\n",
            "Instructions for updating:\n",
            "Use tf.where in 2.0, which has the same broadcast rule as np.where\n"
          ],
          "name": "stderr"
        },
        {
          "output_type": "stream",
          "text": [
            "Model: \"sequential\"\n",
            "_________________________________________________________________\n",
            "Layer (type)                 Output Shape              Param #   \n",
            "=================================================================\n",
            "embedding (Embedding)        (None, 120, 16)           16000     \n",
            "_________________________________________________________________\n",
            "conv1d (Conv1D)              (None, 116, 128)          10368     \n",
            "_________________________________________________________________\n",
            "global_max_pooling1d (Global (None, 128)               0         \n",
            "_________________________________________________________________\n",
            "dense (Dense)                (None, 24)                3096      \n",
            "_________________________________________________________________\n",
            "dense_1 (Dense)              (None, 1)                 25        \n",
            "=================================================================\n",
            "Total params: 29,489\n",
            "Trainable params: 29,489\n",
            "Non-trainable params: 0\n",
            "_________________________________________________________________\n",
            "Train on 20000 samples, validate on 6709 samples\n",
            "Epoch 1/50\n",
            "20000/20000 [==============================] - 7s 348us/sample - loss: 0.4727 - accuracy: 0.7589 - val_loss: 0.4072 - val_accuracy: 0.8144\n",
            "Epoch 2/50\n",
            "20000/20000 [==============================] - 7s 338us/sample - loss: 0.3606 - accuracy: 0.8376 - val_loss: 0.3886 - val_accuracy: 0.8289\n",
            "Epoch 3/50\n",
            "20000/20000 [==============================] - 7s 339us/sample - loss: 0.3213 - accuracy: 0.8587 - val_loss: 0.3931 - val_accuracy: 0.8250\n",
            "Epoch 4/50\n",
            "20000/20000 [==============================] - 7s 341us/sample - loss: 0.2888 - accuracy: 0.8759 - val_loss: 0.4021 - val_accuracy: 0.8252\n",
            "Epoch 5/50\n",
            "20000/20000 [==============================] - 7s 338us/sample - loss: 0.2511 - accuracy: 0.8944 - val_loss: 0.4316 - val_accuracy: 0.8195\n",
            "Epoch 6/50\n",
            "20000/20000 [==============================] - 7s 338us/sample - loss: 0.2181 - accuracy: 0.9120 - val_loss: 0.4642 - val_accuracy: 0.8216\n",
            "Epoch 7/50\n",
            "20000/20000 [==============================] - 7s 337us/sample - loss: 0.1824 - accuracy: 0.9279 - val_loss: 0.5073 - val_accuracy: 0.8086\n",
            "Epoch 8/50\n",
            "20000/20000 [==============================] - 7s 342us/sample - loss: 0.1533 - accuracy: 0.9434 - val_loss: 0.5684 - val_accuracy: 0.8041\n",
            "Epoch 9/50\n",
            "20000/20000 [==============================] - 7s 338us/sample - loss: 0.1243 - accuracy: 0.9550 - val_loss: 0.6609 - val_accuracy: 0.8013\n",
            "Epoch 10/50\n",
            "20000/20000 [==============================] - 7s 337us/sample - loss: 0.1022 - accuracy: 0.9625 - val_loss: 0.7196 - val_accuracy: 0.7879\n",
            "Epoch 11/50\n",
            "20000/20000 [==============================] - 7s 338us/sample - loss: 0.0866 - accuracy: 0.9690 - val_loss: 0.8512 - val_accuracy: 0.7912\n",
            "Epoch 12/50\n",
            "20000/20000 [==============================] - 7s 341us/sample - loss: 0.0701 - accuracy: 0.9769 - val_loss: 0.8935 - val_accuracy: 0.7863\n",
            "Epoch 13/50\n",
            "20000/20000 [==============================] - 7s 338us/sample - loss: 0.0587 - accuracy: 0.9803 - val_loss: 0.9643 - val_accuracy: 0.7925\n",
            "Epoch 14/50\n",
            "20000/20000 [==============================] - 7s 351us/sample - loss: 0.0566 - accuracy: 0.9797 - val_loss: 1.0312 - val_accuracy: 0.7861\n",
            "Epoch 15/50\n",
            "20000/20000 [==============================] - 7s 347us/sample - loss: 0.0501 - accuracy: 0.9811 - val_loss: 1.0689 - val_accuracy: 0.7825\n",
            "Epoch 16/50\n",
            "20000/20000 [==============================] - 7s 335us/sample - loss: 0.0446 - accuracy: 0.9841 - val_loss: 1.1789 - val_accuracy: 0.7854\n",
            "Epoch 17/50\n",
            "20000/20000 [==============================] - 7s 338us/sample - loss: 0.0396 - accuracy: 0.9852 - val_loss: 1.2492 - val_accuracy: 0.7867\n",
            "Epoch 18/50\n",
            "20000/20000 [==============================] - 7s 339us/sample - loss: 0.0394 - accuracy: 0.9851 - val_loss: 1.2733 - val_accuracy: 0.7872\n",
            "Epoch 19/50\n",
            "20000/20000 [==============================] - 7s 341us/sample - loss: 0.0365 - accuracy: 0.9862 - val_loss: 1.3247 - val_accuracy: 0.7784\n",
            "Epoch 20/50\n",
            "20000/20000 [==============================] - 7s 341us/sample - loss: 0.0318 - accuracy: 0.9887 - val_loss: 1.3936 - val_accuracy: 0.7894\n",
            "Epoch 21/50\n",
            "20000/20000 [==============================] - 7s 338us/sample - loss: 0.0287 - accuracy: 0.9891 - val_loss: 1.5070 - val_accuracy: 0.7812\n",
            "Epoch 22/50\n",
            "20000/20000 [==============================] - 7s 336us/sample - loss: 0.0330 - accuracy: 0.9869 - val_loss: 1.4852 - val_accuracy: 0.7831\n",
            "Epoch 23/50\n",
            "20000/20000 [==============================] - 7s 336us/sample - loss: 0.0366 - accuracy: 0.9855 - val_loss: 1.5089 - val_accuracy: 0.7830\n",
            "Epoch 24/50\n",
            "20000/20000 [==============================] - 7s 339us/sample - loss: 0.0328 - accuracy: 0.9870 - val_loss: 1.4680 - val_accuracy: 0.7840\n",
            "Epoch 25/50\n",
            "20000/20000 [==============================] - 7s 336us/sample - loss: 0.0238 - accuracy: 0.9908 - val_loss: 1.5764 - val_accuracy: 0.7860\n",
            "Epoch 26/50\n",
            "20000/20000 [==============================] - 7s 338us/sample - loss: 0.0250 - accuracy: 0.9899 - val_loss: 1.6695 - val_accuracy: 0.7763\n",
            "Epoch 27/50\n",
            "20000/20000 [==============================] - 7s 336us/sample - loss: 0.0335 - accuracy: 0.9857 - val_loss: 1.6207 - val_accuracy: 0.7858\n",
            "Epoch 28/50\n",
            "20000/20000 [==============================] - 7s 335us/sample - loss: 0.0263 - accuracy: 0.9893 - val_loss: 1.7189 - val_accuracy: 0.7770\n",
            "Epoch 29/50\n",
            "20000/20000 [==============================] - 7s 342us/sample - loss: 0.0260 - accuracy: 0.9887 - val_loss: 1.7114 - val_accuracy: 0.7803\n",
            "Epoch 30/50\n",
            "20000/20000 [==============================] - 7s 336us/sample - loss: 0.0243 - accuracy: 0.9888 - val_loss: 1.7101 - val_accuracy: 0.7833\n",
            "Epoch 31/50\n",
            "20000/20000 [==============================] - 7s 343us/sample - loss: 0.0249 - accuracy: 0.9891 - val_loss: 1.7869 - val_accuracy: 0.7766\n",
            "Epoch 32/50\n",
            "20000/20000 [==============================] - 7s 342us/sample - loss: 0.0234 - accuracy: 0.9899 - val_loss: 1.7684 - val_accuracy: 0.7779\n",
            "Epoch 33/50\n",
            "20000/20000 [==============================] - 7s 336us/sample - loss: 0.0324 - accuracy: 0.9870 - val_loss: 1.7310 - val_accuracy: 0.7901\n",
            "Epoch 34/50\n",
            "20000/20000 [==============================] - 7s 336us/sample - loss: 0.0267 - accuracy: 0.9891 - val_loss: 1.7282 - val_accuracy: 0.7912\n",
            "Epoch 35/50\n",
            "20000/20000 [==============================] - 7s 337us/sample - loss: 0.0186 - accuracy: 0.9920 - val_loss: 1.7516 - val_accuracy: 0.7839\n",
            "Epoch 36/50\n",
            "20000/20000 [==============================] - 7s 336us/sample - loss: 0.0177 - accuracy: 0.9918 - val_loss: 1.8059 - val_accuracy: 0.7845\n",
            "Epoch 37/50\n",
            "20000/20000 [==============================] - 7s 338us/sample - loss: 0.0179 - accuracy: 0.9922 - val_loss: 1.8671 - val_accuracy: 0.7770\n",
            "Epoch 38/50\n",
            "20000/20000 [==============================] - 7s 336us/sample - loss: 0.0197 - accuracy: 0.9911 - val_loss: 1.9724 - val_accuracy: 0.7742\n",
            "Epoch 39/50\n",
            "20000/20000 [==============================] - 7s 338us/sample - loss: 0.0347 - accuracy: 0.9867 - val_loss: 1.7417 - val_accuracy: 0.7903\n",
            "Epoch 40/50\n",
            "20000/20000 [==============================] - 7s 336us/sample - loss: 0.0229 - accuracy: 0.9900 - val_loss: 1.8296 - val_accuracy: 0.7803\n",
            "Epoch 41/50\n",
            "20000/20000 [==============================] - 7s 337us/sample - loss: 0.0177 - accuracy: 0.9920 - val_loss: 1.9034 - val_accuracy: 0.7834\n",
            "Epoch 42/50\n",
            "20000/20000 [==============================] - 7s 335us/sample - loss: 0.0158 - accuracy: 0.9930 - val_loss: 1.9206 - val_accuracy: 0.7821\n",
            "Epoch 43/50\n",
            "20000/20000 [==============================] - 7s 341us/sample - loss: 0.0194 - accuracy: 0.9913 - val_loss: 1.9389 - val_accuracy: 0.7843\n",
            "Epoch 44/50\n",
            "20000/20000 [==============================] - 7s 342us/sample - loss: 0.0276 - accuracy: 0.9893 - val_loss: 1.9271 - val_accuracy: 0.7831\n",
            "Epoch 45/50\n",
            "20000/20000 [==============================] - 7s 333us/sample - loss: 0.0280 - accuracy: 0.9886 - val_loss: 1.9445 - val_accuracy: 0.7833\n",
            "Epoch 46/50\n",
            "20000/20000 [==============================] - 7s 335us/sample - loss: 0.0225 - accuracy: 0.9908 - val_loss: 1.9050 - val_accuracy: 0.7895\n",
            "Epoch 47/50\n",
            "20000/20000 [==============================] - 7s 332us/sample - loss: 0.0188 - accuracy: 0.9917 - val_loss: 1.9153 - val_accuracy: 0.7851\n",
            "Epoch 48/50\n",
            "20000/20000 [==============================] - 7s 338us/sample - loss: 0.0178 - accuracy: 0.9919 - val_loss: 1.9393 - val_accuracy: 0.7854\n",
            "Epoch 49/50\n",
            "20000/20000 [==============================] - 7s 338us/sample - loss: 0.0189 - accuracy: 0.9916 - val_loss: 1.9056 - val_accuracy: 0.7910\n",
            "Epoch 50/50\n",
            "20000/20000 [==============================] - 7s 337us/sample - loss: 0.0195 - accuracy: 0.9909 - val_loss: 1.9400 - val_accuracy: 0.7831\n"
          ],
          "name": "stdout"
        }
      ]
    },
    {
      "cell_type": "code",
      "metadata": {
        "id": "g9DC6dmLF8DC",
        "colab_type": "code",
        "colab": {
          "base_uri": "https://localhost:8080/",
          "height": 549
        },
        "outputId": "1bf0b77a-4b6e-45e9-a7e3-a3737b3d12c8"
      },
      "source": [
        "import matplotlib.pyplot as plt\n",
        "\n",
        "\n",
        "def plot_graphs(history, string):\n",
        "  plt.plot(history.history[string])\n",
        "  plt.plot(history.history['val_'+string])\n",
        "  plt.xlabel(\"Epochs\")\n",
        "  plt.ylabel(string)\n",
        "  plt.legend([string, 'val_'+string])\n",
        "  plt.show()\n",
        "\n",
        "plot_graphs(history, 'accuracy')\n",
        "plot_graphs(history, 'loss')"
      ],
      "execution_count": 3,
      "outputs": [
        {
          "output_type": "display_data",
          "data": {
            "image/png": "[encoded data removed]",
            "text/plain": [
              "<Figure size 432x288 with 1 Axes>"
            ]
          },
          "metadata": {
            "tags": []
          }
        },
        {
          "output_type": "display_data",
          "data": {
            "image/png": "[encoded data removed]",
            "text/plain": [
              "<Figure size 432x288 with 1 Axes>"
            ]
          },
          "metadata": {
            "tags": []
          }
        }
      ]
    },
    {
      "cell_type": "code",
      "metadata": {
        "id": "7ZEZIUppGhdi",
        "colab_type": "code",
        "colab": {}
      },
      "source": [
        "model.save(\"test.h5\")"
      ],
      "execution_count": 0,
      "outputs": []
    }
  ]
}