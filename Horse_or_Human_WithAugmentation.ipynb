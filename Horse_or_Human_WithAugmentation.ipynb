{
  "nbformat": 4,
  "nbformat_minor": 0,
  "metadata": {
    "colab": {
      "name": "Horse_or_Human_WithAugmentation.ipynb",
      "version": "0.3.2",
      "provenance": [],
      "collapsed_sections": [],
      "toc_visible": true,
      "include_colab_link": true
    },
    "kernelspec": {
      "name": "python3",
      "display_name": "Python 3"
    },
    "accelerator": "GPU"
  },
  "cells": [
    {
      "cell_type": "markdown",
      "metadata": {
        "id": "view-in-github",
        "colab_type": "text"
      },
      "source": [
        "<a href=\"https://colab.research.google.com/github/saurabh2086/tensorFlowInPractice/blob/master/Horse_or_Human_WithAugmentation.ipynb\" target=\"_parent\"><img src=\"https://colab.research.google.com/assets/colab-badge.svg\" alt=\"Open In Colab\"/></a>"
      ]
    },
    {
      "cell_type": "code",
      "metadata": {
        "colab_type": "code",
        "id": "RXZT2UsyIVe_",
        "colab": {
          "base_uri": "https://localhost:8080/",
          "height": 419
        },
        "outputId": "d7b6b70e-aa2f-4745-ecf2-be4663711af1"
      },
      "source": [
        "!wget --no-check-certificate \\\n",
        "    https://storage.googleapis.com/laurencemoroney-blog.appspot.com/horse-or-human.zip \\\n",
        "    -O /tmp/horse-or-human.zip\n",
        "\n",
        "!wget --no-check-certificate \\\n",
        "    https://storage.googleapis.com/laurencemoroney-blog.appspot.com/validation-horse-or-human.zip \\\n",
        "    -O /tmp/validation-horse-or-human.zip\n",
        "  \n",
        "import os\n",
        "import zipfile\n",
        "\n",
        "local_zip = '/tmp/horse-or-human.zip'\n",
        "zip_ref = zipfile.ZipFile(local_zip, 'r')\n",
        "zip_ref.extractall('/tmp/horse-or-human')\n",
        "local_zip = '/tmp/validation-horse-or-human.zip'\n",
        "zip_ref = zipfile.ZipFile(local_zip, 'r')\n",
        "zip_ref.extractall('/tmp/validation-horse-or-human')\n",
        "zip_ref.close()\n",
        "# Directory with our training horse pictures\n",
        "train_horse_dir = os.path.join('/tmp/horse-or-human/horses')\n",
        "\n",
        "# Directory with our training human pictures\n",
        "train_human_dir = os.path.join('/tmp/horse-or-human/humans')\n",
        "\n",
        "# Directory with our training horse pictures\n",
        "validation_horse_dir = os.path.join('/tmp/validation-horse-or-human/horses')\n",
        "\n",
        "# Directory with our training human pictures\n",
        "validation_human_dir = os.path.join('/tmp/validation-horse-or-human/humans')"
      ],
      "execution_count": 1,
      "outputs": [
        {
          "output_type": "stream",
          "text": [
            "--2019-06-25 13:48:49--  https://storage.googleapis.com/laurencemoroney-blog.appspot.com/horse-or-human.zip\n",
            "Resolving storage.googleapis.com (storage.googleapis.com)... 74.125.141.128, 2607:f8b0:400c:c06::80\n",
            "Connecting to storage.googleapis.com (storage.googleapis.com)|74.125.141.128|:443... connected.\n",
            "HTTP request sent, awaiting response... 200 OK\n",
            "Length: 149574867 (143M) [application/zip]\n",
            "Saving to: ‘/tmp/horse-or-human.zip’\n",
            "\n",
            "/tmp/horse-or-human 100%[===================>] 142.65M   144MB/s    in 1.0s    \n",
            "\n",
            "2019-06-25 13:48:50 (144 MB/s) - ‘/tmp/horse-or-human.zip’ saved [149574867/149574867]\n",
            "\n",
            "--2019-06-25 13:48:52--  https://storage.googleapis.com/laurencemoroney-blog.appspot.com/validation-horse-or-human.zip\n",
            "Resolving storage.googleapis.com (storage.googleapis.com)... 74.125.141.128, 2607:f8b0:400c:c06::80\n",
            "Connecting to storage.googleapis.com (storage.googleapis.com)|74.125.141.128|:443... connected.\n",
            "HTTP request sent, awaiting response... 200 OK\n",
            "Length: 11480187 (11M) [application/zip]\n",
            "Saving to: ‘/tmp/validation-horse-or-human.zip’\n",
            "\n",
            "/tmp/validation-hor 100%[===================>]  10.95M  --.-KB/s    in 0.1s    \n",
            "\n",
            "2019-06-25 13:48:52 (114 MB/s) - ‘/tmp/validation-horse-or-human.zip’ saved [11480187/11480187]\n",
            "\n"
          ],
          "name": "stdout"
        }
      ]
    },
    {
      "cell_type": "markdown",
      "metadata": {
        "colab_type": "text",
        "id": "5oqBkNBJmtUv"
      },
      "source": [
        "## Building a Small Model from Scratch\n",
        "\n",
        "But before we continue, let's start defining the model:\n",
        "\n",
        "Step 1 will be to import tensorflow."
      ]
    },
    {
      "cell_type": "code",
      "metadata": {
        "id": "qvfZg3LQbD-5",
        "colab_type": "code",
        "colab": {}
      },
      "source": [
        "import tensorflow as tf"
      ],
      "execution_count": 0,
      "outputs": []
    },
    {
      "cell_type": "markdown",
      "metadata": {
        "colab_type": "text",
        "id": "BnhYCP4tdqjC"
      },
      "source": [
        "We then add convolutional layers as in the previous example, and flatten the final result to feed into the densely connected layers."
      ]
    },
    {
      "cell_type": "markdown",
      "metadata": {
        "id": "gokG5HKpdtzm",
        "colab_type": "text"
      },
      "source": [
        "Finally we add the densely connected layers. \n",
        "\n",
        "Note that because we are facing a two-class classification problem, i.e. a *binary classification problem*, we will end our network with a [*sigmoid* activation](https://wikipedia.org/wiki/Sigmoid_function), so that the output of our network will be a single scalar between 0 and 1, encoding the probability that the current image is class 1 (as opposed to class 0)."
      ]
    },
    {
      "cell_type": "code",
      "metadata": {
        "id": "PixZ2s5QbYQ3",
        "colab_type": "code",
        "colab": {
          "base_uri": "https://localhost:8080/",
          "height": 107
        },
        "outputId": "a2408afe-0ed7-42d0-d809-21bcb765587e"
      },
      "source": [
        "model = tf.keras.models.Sequential([\n",
        "    # Note the input shape is the desired size of the image 300x300 with 3 bytes color\n",
        "    # This is the first convolution\n",
        "    tf.keras.layers.Conv2D(16, (3,3), activation='relu', input_shape=(300, 300, 3)),\n",
        "    tf.keras.layers.MaxPooling2D(2, 2),\n",
        "    # The second convolution\n",
        "    tf.keras.layers.Conv2D(32, (3,3), activation='relu'),\n",
        "    tf.keras.layers.MaxPooling2D(2,2),\n",
        "    # The third convolution\n",
        "    tf.keras.layers.Conv2D(64, (3,3), activation='relu'),\n",
        "    tf.keras.layers.MaxPooling2D(2,2),\n",
        "    # The fourth convolution\n",
        "    tf.keras.layers.Conv2D(64, (3,3), activation='relu'),\n",
        "    tf.keras.layers.MaxPooling2D(2,2),\n",
        "    # The fifth convolution\n",
        "    tf.keras.layers.Conv2D(64, (3,3), activation='relu'),\n",
        "    tf.keras.layers.MaxPooling2D(2,2),\n",
        "    # Flatten the results to feed into a DNN\n",
        "    tf.keras.layers.Flatten(),\n",
        "    # 512 neuron hidden layer\n",
        "    tf.keras.layers.Dense(512, activation='relu'),\n",
        "    # Only 1 output neuron. It will contain a value from 0-1 where 0 for 1 class ('horses') and 1 for the other ('humans')\n",
        "    tf.keras.layers.Dense(1, activation='sigmoid')\n",
        "])"
      ],
      "execution_count": 3,
      "outputs": [
        {
          "output_type": "stream",
          "text": [
            "WARNING: Logging before flag parsing goes to stderr.\n",
            "W0625 13:48:56.300766 139737579685760 deprecation.py:506] From /usr/local/lib/python3.6/dist-packages/tensorflow/python/ops/init_ops.py:1251: calling VarianceScaling.__init__ (from tensorflow.python.ops.init_ops) with dtype is deprecated and will be removed in a future version.\n",
            "Instructions for updating:\n",
            "Call initializer instance with the dtype argument instead of passing it to the constructor\n"
          ],
          "name": "stderr"
        }
      ]
    },
    {
      "cell_type": "code",
      "metadata": {
        "colab_type": "code",
        "id": "8DHWhFP_uhq3",
        "colab": {
          "base_uri": "https://localhost:8080/",
          "height": 89
        },
        "outputId": "e6bf9a7a-2916-4fda-e08b-8d3f416dfed0"
      },
      "source": [
        "from tensorflow.keras.optimizers import RMSprop\n",
        "\n",
        "model.compile(loss='binary_crossentropy',\n",
        "              optimizer=RMSprop(lr=1e-4),\n",
        "              metrics=['acc'])"
      ],
      "execution_count": 4,
      "outputs": [
        {
          "output_type": "stream",
          "text": [
            "W0625 13:48:56.580775 139737579685760 deprecation.py:323] From /usr/local/lib/python3.6/dist-packages/tensorflow/python/ops/nn_impl.py:180: add_dispatch_support.<locals>.wrapper (from tensorflow.python.ops.array_ops) is deprecated and will be removed in a future version.\n",
            "Instructions for updating:\n",
            "Use tf.where in 2.0, which has the same broadcast rule as np.where\n"
          ],
          "name": "stderr"
        }
      ]
    },
    {
      "cell_type": "code",
      "metadata": {
        "colab_type": "code",
        "id": "ClebU9NJg99G",
        "colab": {
          "base_uri": "https://localhost:8080/",
          "height": 52
        },
        "outputId": "e2500707-ff21-4f5e-b4b2-aba40afb07f6"
      },
      "source": [
        "from tensorflow.keras.preprocessing.image import ImageDataGenerator\n",
        "\n",
        "# All images will be rescaled by 1./255\n",
        "train_datagen = ImageDataGenerator(\n",
        "      rescale=1./255,\n",
        "      rotation_range=40,\n",
        "      width_shift_range=0.2,\n",
        "      height_shift_range=0.2,\n",
        "      shear_range=0.2,\n",
        "      zoom_range=0.2,\n",
        "      horizontal_flip=True,\n",
        "      fill_mode='nearest')\n",
        "\n",
        "validation_datagen = ImageDataGenerator(rescale=1/255)\n",
        "\n",
        "# Flow training images in batches of 128 using train_datagen generator\n",
        "train_generator = train_datagen.flow_from_directory(\n",
        "        '/tmp/horse-or-human/',  # This is the source directory for training images\n",
        "        target_size=(300, 300),  # All images will be resized to 150x150\n",
        "        batch_size=128,\n",
        "        # Since we use binary_crossentropy loss, we need binary labels\n",
        "        class_mode='binary')\n",
        "\n",
        "# Flow training images in batches of 128 using train_datagen generator\n",
        "validation_generator = validation_datagen.flow_from_directory(\n",
        "        '/tmp/validation-horse-or-human/',  # This is the source directory for training images\n",
        "        target_size=(300, 300),  # All images will be resized to 150x150\n",
        "        batch_size=32,\n",
        "        # Since we use binary_crossentropy loss, we need binary labels\n",
        "        class_mode='binary')"
      ],
      "execution_count": 5,
      "outputs": [
        {
          "output_type": "stream",
          "text": [
            "Found 1027 images belonging to 2 classes.\n",
            "Found 256 images belonging to 2 classes.\n"
          ],
          "name": "stdout"
        }
      ]
    },
    {
      "cell_type": "code",
      "metadata": {
        "colab_type": "code",
        "id": "Fb1_lgobv81m",
        "colab": {
          "base_uri": "https://localhost:8080/",
          "height": 1000
        },
        "outputId": "2b6c4569-a0d5-4a6f-f9d1-b521cb5eea58"
      },
      "source": [
        "history = model.fit_generator(\n",
        "      train_generator,\n",
        "      steps_per_epoch=8,  \n",
        "      epochs=100,\n",
        "      verbose=1,\n",
        "      validation_data = validation_generator,\n",
        "      validation_steps=8)"
      ],
      "execution_count": 0,
      "outputs": [
        {
          "output_type": "stream",
          "text": [
            "Epoch 1/100\n",
            "8/8 [==============================] - 27s 3s/step - loss: 0.6882 - acc: 0.5328 - val_loss: 0.6795 - val_acc: 0.5039\n",
            "Epoch 2/100\n",
            "8/8 [==============================] - 24s 3s/step - loss: 0.6503 - acc: 0.6340 - val_loss: 0.6741 - val_acc: 0.5000\n",
            "Epoch 3/100\n",
            "8/8 [==============================] - 24s 3s/step - loss: 0.6365 - acc: 0.6719 - val_loss: 0.7223 - val_acc: 0.5000\n",
            "Epoch 4/100\n",
            "8/8 [==============================] - 25s 3s/step - loss: 0.6238 - acc: 0.6596 - val_loss: 0.7058 - val_acc: 0.5039\n",
            "Epoch 5/100\n",
            "8/8 [==============================] - 28s 3s/step - loss: 0.5706 - acc: 0.7021 - val_loss: 0.6396 - val_acc: 0.5781\n",
            "Epoch 6/100\n",
            "8/8 [==============================] - 21s 3s/step - loss: 0.5265 - acc: 0.7261 - val_loss: 0.6366 - val_acc: 0.5977\n",
            "Epoch 7/100\n",
            "8/8 [==============================] - 28s 3s/step - loss: 0.5347 - acc: 0.7119 - val_loss: 0.8091 - val_acc: 0.5391\n",
            "Epoch 8/100\n",
            "8/8 [==============================] - 25s 3s/step - loss: 0.4854 - acc: 0.7275 - val_loss: 0.9734 - val_acc: 0.5234\n",
            "Epoch 9/100\n",
            "8/8 [==============================] - 24s 3s/step - loss: 0.5124 - acc: 0.7308 - val_loss: 0.7371 - val_acc: 0.6016\n",
            "Epoch 10/100\n",
            "8/8 [==============================] - 25s 3s/step - loss: 0.5002 - acc: 0.7486 - val_loss: 0.8419 - val_acc: 0.5938\n",
            "Epoch 11/100\n",
            "8/8 [==============================] - 27s 3s/step - loss: 0.4618 - acc: 0.7783 - val_loss: 0.9121 - val_acc: 0.5938\n",
            "Epoch 12/100\n",
            "8/8 [==============================] - 25s 3s/step - loss: 0.4088 - acc: 0.7942 - val_loss: 1.2544 - val_acc: 0.5508\n",
            "Epoch 13/100\n",
            "8/8 [==============================] - 24s 3s/step - loss: 0.5189 - acc: 0.7964 - val_loss: 1.0777 - val_acc: 0.5977\n",
            "Epoch 14/100\n",
            "8/8 [==============================] - 21s 3s/step - loss: 0.5000 - acc: 0.7584 - val_loss: 1.1779 - val_acc: 0.5938\n",
            "Epoch 15/100\n",
            "8/8 [==============================] - 27s 3s/step - loss: 0.3953 - acc: 0.8242 - val_loss: 1.1050 - val_acc: 0.6133\n",
            "Epoch 16/100\n",
            "8/8 [==============================] - 24s 3s/step - loss: 0.3974 - acc: 0.8154 - val_loss: 1.2422 - val_acc: 0.6094\n",
            "Epoch 17/100\n",
            "8/8 [==============================] - 25s 3s/step - loss: 0.4966 - acc: 0.8076 - val_loss: 0.9635 - val_acc: 0.6602\n",
            "Epoch 18/100\n",
            "8/8 [==============================] - 24s 3s/step - loss: 0.3457 - acc: 0.8409 - val_loss: 1.6233 - val_acc: 0.5781\n",
            "Epoch 19/100\n",
            "8/8 [==============================] - 25s 3s/step - loss: 0.3744 - acc: 0.8187 - val_loss: 1.0239 - val_acc: 0.6680\n",
            "Epoch 20/100\n",
            "8/8 [==============================] - 24s 3s/step - loss: 0.3651 - acc: 0.8242 - val_loss: 0.7736 - val_acc: 0.7305\n",
            "Epoch 21/100\n",
            "8/8 [==============================] - 24s 3s/step - loss: 0.3465 - acc: 0.8209 - val_loss: 0.8890 - val_acc: 0.7031\n",
            "Epoch 22/100\n",
            "8/8 [==============================] - 27s 3s/step - loss: 0.3713 - acc: 0.8506 - val_loss: 1.5960 - val_acc: 0.5898\n",
            "Epoch 23/100\n",
            "8/8 [==============================] - 21s 3s/step - loss: 0.3456 - acc: 0.8346 - val_loss: 1.1856 - val_acc: 0.6562\n",
            "Epoch 24/100\n",
            "8/8 [==============================] - 24s 3s/step - loss: 0.3495 - acc: 0.8465 - val_loss: 2.3310 - val_acc: 0.5508\n",
            "Epoch 25/100\n",
            "8/8 [==============================] - 27s 3s/step - loss: 0.3386 - acc: 0.8418 - val_loss: 1.1283 - val_acc: 0.6680\n",
            "Epoch 26/100\n",
            "8/8 [==============================] - 24s 3s/step - loss: 0.4165 - acc: 0.8198 - val_loss: 1.5583 - val_acc: 0.6016\n",
            "Epoch 27/100\n",
            "8/8 [==============================] - 24s 3s/step - loss: 0.3233 - acc: 0.8676 - val_loss: 1.4131 - val_acc: 0.6250\n",
            "Epoch 28/100\n",
            "8/8 [==============================] - 24s 3s/step - loss: 0.3430 - acc: 0.8331 - val_loss: 1.8839 - val_acc: 0.5664\n",
            "Epoch 29/100\n",
            "8/8 [==============================] - 24s 3s/step - loss: 0.2858 - acc: 0.8710 - val_loss: 2.4362 - val_acc: 0.5273\n",
            "Epoch 30/100\n",
            "8/8 [==============================] - 24s 3s/step - loss: 0.2881 - acc: 0.8665 - val_loss: 1.5390 - val_acc: 0.6211\n",
            "Epoch 31/100\n",
            "8/8 [==============================] - 27s 3s/step - loss: 0.2876 - acc: 0.8770 - val_loss: 2.0017 - val_acc: 0.5742\n",
            "Epoch 32/100\n",
            "8/8 [==============================] - 24s 3s/step - loss: 0.3463 - acc: 0.8721 - val_loss: 1.3342 - val_acc: 0.6562\n",
            "Epoch 33/100\n",
            "8/8 [==============================] - 24s 3s/step - loss: 0.2796 - acc: 0.8821 - val_loss: 1.4334 - val_acc: 0.6523\n",
            "Epoch 34/100\n",
            "8/8 [==============================] - 24s 3s/step - loss: 0.2832 - acc: 0.8877 - val_loss: 2.1993 - val_acc: 0.5703\n",
            "Epoch 35/100\n",
            "8/8 [==============================] - 24s 3s/step - loss: 0.2873 - acc: 0.8587 - val_loss: 2.7273 - val_acc: 0.5469\n",
            "Epoch 36/100\n",
            "8/8 [==============================] - 24s 3s/step - loss: 0.2691 - acc: 0.8776 - val_loss: 1.3256 - val_acc: 0.6875\n",
            "Epoch 37/100\n",
            "8/8 [==============================] - 24s 3s/step - loss: 0.3360 - acc: 0.8665 - val_loss: 2.0285 - val_acc: 0.5977\n",
            "Epoch 38/100\n",
            "8/8 [==============================] - 24s 3s/step - loss: 0.2049 - acc: 0.9155 - val_loss: 2.0957 - val_acc: 0.6094\n",
            "Epoch 39/100\n",
            "8/8 [==============================] - 24s 3s/step - loss: 0.3285 - acc: 0.8643 - val_loss: 1.6800 - val_acc: 0.6172\n",
            "Epoch 40/100\n",
            "8/8 [==============================] - 24s 3s/step - loss: 0.2428 - acc: 0.8932 - val_loss: 1.8578 - val_acc: 0.6172\n",
            "Epoch 41/100\n",
            "8/8 [==============================] - 28s 3s/step - loss: 0.2133 - acc: 0.9131 - val_loss: 1.3055 - val_acc: 0.6992\n",
            "Epoch 42/100\n",
            "8/8 [==============================] - 21s 3s/step - loss: 0.2990 - acc: 0.8514 - val_loss: 1.3846 - val_acc: 0.6797\n",
            "Epoch 43/100\n",
            "8/8 [==============================] - 27s 3s/step - loss: 0.2143 - acc: 0.9189 - val_loss: 2.2644 - val_acc: 0.6055\n",
            "Epoch 44/100\n",
            "8/8 [==============================] - 24s 3s/step - loss: 0.2350 - acc: 0.9032 - val_loss: 2.0950 - val_acc: 0.6133\n",
            "Epoch 45/100\n",
            "8/8 [==============================] - 24s 3s/step - loss: 0.3187 - acc: 0.8598 - val_loss: 2.3748 - val_acc: 0.5742\n",
            "Epoch 46/100\n",
            "8/8 [==============================] - 24s 3s/step - loss: 0.4435 - acc: 0.8587 - val_loss: 1.9004 - val_acc: 0.6289\n",
            "Epoch 47/100\n",
            "8/8 [==============================] - 25s 3s/step - loss: 0.1882 - acc: 0.9221 - val_loss: 2.1495 - val_acc: 0.6133\n",
            "Epoch 48/100\n",
            "8/8 [==============================] - 27s 3s/step - loss: 0.2077 - acc: 0.9141 - val_loss: 2.1927 - val_acc: 0.6133\n",
            "Epoch 49/100\n",
            "8/8 [==============================] - 21s 3s/step - loss: 0.2071 - acc: 0.9134 - val_loss: 2.4742 - val_acc: 0.5859\n",
            "Epoch 50/100\n",
            "8/8 [==============================] - 24s 3s/step - loss: 0.2005 - acc: 0.9021 - val_loss: 1.3318 - val_acc: 0.7188\n",
            "Epoch 51/100\n",
            "8/8 [==============================] - 24s 3s/step - loss: 0.2278 - acc: 0.8877 - val_loss: 2.4599 - val_acc: 0.5781\n",
            "Epoch 52/100\n",
            "8/8 [==============================] - 28s 4s/step - loss: 0.2115 - acc: 0.9131 - val_loss: 3.2984 - val_acc: 0.5195\n",
            "Epoch 53/100\n",
            "8/8 [==============================] - 21s 3s/step - loss: 0.1776 - acc: 0.9121 - val_loss: 3.1357 - val_acc: 0.5391\n",
            "Epoch 54/100\n",
            "8/8 [==============================] - 28s 4s/step - loss: 0.2259 - acc: 0.8994 - val_loss: 1.9198 - val_acc: 0.6523\n",
            "Epoch 55/100\n",
            "8/8 [==============================] - 24s 3s/step - loss: 0.2339 - acc: 0.8843 - val_loss: 2.0279 - val_acc: 0.6367\n",
            "Epoch 56/100\n",
            "8/8 [==============================] - 24s 3s/step - loss: 0.2354 - acc: 0.9188 - val_loss: 2.7950 - val_acc: 0.5625\n",
            "Epoch 57/100\n",
            "8/8 [==============================] - 24s 3s/step - loss: 0.2199 - acc: 0.9166 - val_loss: 2.7711 - val_acc: 0.5625\n",
            "Epoch 58/100\n",
            "8/8 [==============================] - 24s 3s/step - loss: 0.1895 - acc: 0.9199 - val_loss: 1.5414 - val_acc: 0.6836\n",
            "Epoch 59/100\n",
            "8/8 [==============================] - 27s 3s/step - loss: 0.1737 - acc: 0.9346 - val_loss: 1.3782 - val_acc: 0.7188\n",
            "Epoch 60/100\n",
            "8/8 [==============================] - 24s 3s/step - loss: 0.2079 - acc: 0.9232 - val_loss: 2.2713 - val_acc: 0.6328\n",
            "Epoch 61/100\n",
            "8/8 [==============================] - 24s 3s/step - loss: 0.2560 - acc: 0.8954 - val_loss: 2.4254 - val_acc: 0.6133\n",
            "Epoch 62/100\n",
            "8/8 [==============================] - 24s 3s/step - loss: 0.3305 - acc: 0.8943 - val_loss: 2.4196 - val_acc: 0.6172\n",
            "Epoch 63/100\n",
            "8/8 [==============================] - 24s 3s/step - loss: 0.1755 - acc: 0.9466 - val_loss: 1.8161 - val_acc: 0.6797\n",
            "Epoch 64/100\n",
            "8/8 [==============================] - 27s 3s/step - loss: 0.1555 - acc: 0.9375 - val_loss: 2.0363 - val_acc: 0.6523\n",
            "Epoch 65/100\n",
            "8/8 [==============================] - 22s 3s/step - loss: 0.2595 - acc: 0.8889 - val_loss: 2.5541 - val_acc: 0.6133\n",
            "Epoch 66/100\n",
            "8/8 [==============================] - 28s 3s/step - loss: 0.1414 - acc: 0.9531 - val_loss: 3.3181 - val_acc: 0.5625\n",
            "Epoch 67/100\n",
            "8/8 [==============================] - 21s 3s/step - loss: 0.3807 - acc: 0.9160 - val_loss: 2.4923 - val_acc: 0.6055\n",
            "Epoch 68/100\n"
          ],
          "name": "stdout"
        }
      ]
    },
    {
      "cell_type": "code",
      "metadata": {
        "id": "7zNPRWOVJdOH",
        "colab_type": "code",
        "colab": {}
      },
      "source": [
        "import matplotlib.pyplot as plt\n",
        "acc = history.history['acc']\n",
        "val_acc = history.history['val_acc']\n",
        "loss = history.history['loss']\n",
        "val_loss = history.history['val_loss']\n",
        "\n",
        "epochs = range(len(acc))\n",
        "\n",
        "plt.plot(epochs, acc, 'r', label='Training accuracy')\n",
        "plt.plot(epochs, val_acc, 'b', label='Validation accuracy')\n",
        "plt.title('Training and validation accuracy')\n",
        "\n",
        "plt.figure()\n",
        "\n",
        "plt.plot(epochs, loss, 'r', label='Training Loss')\n",
        "plt.plot(epochs, val_loss, 'b', label='Validation Loss')\n",
        "plt.title('Training and validation loss')\n",
        "plt.legend()\n",
        "\n",
        "plt.show()"
      ],
      "execution_count": 0,
      "outputs": []
    },
    {
      "cell_type": "code",
      "metadata": {
        "id": "JtNHEljl5WY6",
        "colab_type": "code",
        "colab": {}
      },
      "source": [
        ""
      ],
      "execution_count": 0,
      "outputs": []
    }
  ]
}