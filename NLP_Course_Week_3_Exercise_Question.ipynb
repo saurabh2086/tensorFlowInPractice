{
  "nbformat": 4,
  "nbformat_minor": 0,
  "metadata": {
    "colab": {
      "name": "NLP_Course_Week_3_Exercise_Question.ipynb",
      "version": "0.3.2",
      "provenance": [],
      "include_colab_link": true
    },
    "kernelspec": {
      "name": "python3",
      "display_name": "Python 3"
    },
    "accelerator": "GPU"
  },
  "cells": [
    {
      "cell_type": "markdown",
      "metadata": {
        "id": "view-in-github",
        "colab_type": "text"
      },
      "source": [
        "<a href=\"https://colab.research.google.com/github/saurabh2086/tensorFlowInPractice/blob/master/NLP_Course_Week_3_Exercise_Question.ipynb\" target=\"_parent\"><img src=\"https://colab.research.google.com/assets/colab-badge.svg\" alt=\"Open In Colab\"/></a>"
      ]
    },
    {
      "cell_type": "code",
      "metadata": {
        "id": "hmA6EzkQJ5jt",
        "colab_type": "code",
        "colab": {}
      },
      "source": [
        "import json\n",
        "import tensorflow as tf\n",
        "import csv\n",
        "import random\n",
        "import numpy as np\n",
        "\n",
        "from tensorflow.keras.preprocessing.text import Tokenizer\n",
        "from tensorflow.keras.preprocessing.sequence import pad_sequences\n",
        "from tensorflow.keras.utils import to_categorical\n",
        "from tensorflow.keras import regularizers\n",
        "\n",
        "\n",
        "embedding_dim = 100\n",
        "max_length = 16\n",
        "trunc_type='post'\n",
        "padding_type='post'\n",
        "oov_tok = \"<OOV>\"\n",
        "training_size=160000#Your dataset size here. Experiment using smaller values (i.e. 16000), but don't forget to train on at least 160000 to see the best effects\n",
        "test_portion=.1\n",
        "\n",
        "corpus = []\n"
      ],
      "execution_count": 0,
      "outputs": []
    },
    {
      "cell_type": "code",
      "metadata": {
        "id": "bM0l_dORKqE0",
        "colab_type": "code",
        "outputId": "ee5073e9-3f99-49d6-c2e5-d1644674fd15",
        "colab": {
          "base_uri": "https://localhost:8080/",
          "height": 208
        }
      },
      "source": [
        "\n",
        "# Note that I cleaned the Stanford dataset to remove LATIN1 encoding to make it easier for Python CSV reader\n",
        "# You can do that yourself with:\n",
        "# iconv -f LATIN1 -t UTF8 training.1600000.processed.noemoticon.csv -o training_cleaned.csv\n",
        "# I then hosted it on my site to make it easier to use in this notebook\n",
        "\n",
        "!wget --no-check-certificate \\\n",
        "    https://storage.googleapis.com/laurencemoroney-blog.appspot.com/training_cleaned.csv \\\n",
        "    -O /tmp/training_cleaned.csv\n",
        "\n",
        "num_sentences = 0\n",
        "\n",
        "with open(\"/tmp/training_cleaned.csv\") as csvfile:\n",
        "    reader = csv.reader(csvfile, delimiter=',')\n",
        "    for row in reader:\n",
        "      # Your Code here. Create list items where the first item is the text, found in row[5], and the second is the label. Note that the label is a '0' or a '4' in the text. When it's the former, make\n",
        "      # your label to be 0, otherwise 1. Keep a count of the number of sentences in num_sentences\n",
        "        list_item=[]\n",
        "        # YOUR CODE HERE\n",
        "        list_item.append(row[5])\n",
        "        this_label = row[0]\n",
        "        if this_label == '0':\n",
        "          list_item.append(0)\n",
        "        else:\n",
        "          list_item.append(1)\n",
        "        num_sentences = num_sentences + 1\n",
        "        corpus.append(list_item)\n",
        "\n",
        "\n"
      ],
      "execution_count": 3,
      "outputs": [
        {
          "output_type": "stream",
          "text": [
            "--2019-07-09 06:30:35--  https://storage.googleapis.com/laurencemoroney-blog.appspot.com/training_cleaned.csv\n",
            "Resolving storage.googleapis.com (storage.googleapis.com)... 173.194.76.128, 2a00:1450:400c:c07::80\n",
            "Connecting to storage.googleapis.com (storage.googleapis.com)|173.194.76.128|:443... connected.\n",
            "HTTP request sent, awaiting response... 200 OK\n",
            "Length: 238942690 (228M) [application/octet-stream]\n",
            "Saving to: ‘/tmp/training_cleaned.csv’\n",
            "\n",
            "/tmp/training_clean 100%[===================>] 227.87M  66.3MB/s    in 3.4s    \n",
            "\n",
            "2019-07-09 06:30:38 (66.3 MB/s) - ‘/tmp/training_cleaned.csv’ saved [238942690/238942690]\n",
            "\n"
          ],
          "name": "stdout"
        }
      ]
    },
    {
      "cell_type": "code",
      "metadata": {
        "id": "3kxblBUjEUX-",
        "colab_type": "code",
        "outputId": "a5cce72e-7469-4129-a13c-359f851ea88f",
        "colab": {
          "base_uri": "https://localhost:8080/",
          "height": 69
        }
      },
      "source": [
        "print(num_sentences)\n",
        "print(len(corpus))\n",
        "print(corpus[1])\n",
        "\n",
        "# Expected Output:\n",
        "# 1600000\n",
        "# 1600000\n",
        "# [\"is upset that he can't update his Facebook by texting it... and might cry as a result  School today also. Blah!\", 0]"
      ],
      "execution_count": 4,
      "outputs": [
        {
          "output_type": "stream",
          "text": [
            "1600000\n",
            "1600000\n",
            "[\"is upset that he can't update his Facebook by texting it... and might cry as a result  School today also. Blah!\", 0]\n"
          ],
          "name": "stdout"
        }
      ]
    },
    {
      "cell_type": "code",
      "metadata": {
        "id": "vehprQlAb4AA",
        "colab_type": "code",
        "colab": {}
      },
      "source": [
        "sentences=[]\n",
        "labels=[]\n",
        "random.shuffle(corpus)\n",
        "for x in range(training_size):\n",
        "    sentences.append(corpus[x][0])# YOUR CODE HERE)\n",
        "    labels.append(corpus[x][1])# YOUR CODE HERE)"
      ],
      "execution_count": 0,
      "outputs": []
    },
    {
      "cell_type": "code",
      "metadata": {
        "id": "Znx5mvPdcGWV",
        "colab_type": "code",
        "colab": {}
      },
      "source": [
        ""
      ],
      "execution_count": 0,
      "outputs": []
    },
    {
      "cell_type": "code",
      "metadata": {
        "id": "ohOGz24lsNAD",
        "colab_type": "code",
        "colab": {}
      },
      "source": [
        "sentences=[]\n",
        "labels=[]\n",
        "random.shuffle(corpus)\n",
        "for x in range(training_size):\n",
        "    sentences.append(corpus[x][0])# YOUR CODE HERE)\n",
        "    labels.append(corpus[x][1])# YOUR CODE HERE)\n",
        "\n",
        "\n",
        "tokenizer = Tokenizer()\n",
        "tokenizer.fit_on_texts(sentences)# YOUR CODE HERE)\n",
        "\n",
        "word_index = tokenizer.word_index\n",
        "vocab_size=len(word_index)# YOUR CODE HERE)\n",
        "\n",
        "sequences = tokenizer.texts_to_sequences(sentences)# YOUR CODE HERE)\n",
        "padded = pad_sequences(sequences,maxlen=max_length, padding=padding_type, truncating=trunc_type)# YOUR CODE HERE)\n",
        "\n",
        "split = int(test_portion * training_size)\n",
        "\n",
        "test_sequences = padded[0:split]# YOUR CODE HERE]\n",
        "training_sequences = padded[split:training_size]# YOUR CODE HERE]\n",
        "test_labels = labels[0:split]# YOUR CODE HERE]\n",
        "training_labels = labels[split:training_size]# YOUR CODE HERE]"
      ],
      "execution_count": 0,
      "outputs": []
    },
    {
      "cell_type": "code",
      "metadata": {
        "id": "gIrtRem1En3N",
        "colab_type": "code",
        "outputId": "39898303-a9c0-43b2-db3a-073ff08599fc",
        "colab": {
          "base_uri": "https://localhost:8080/",
          "height": 52
        }
      },
      "source": [
        "print(vocab_size)\n",
        "print(word_index['i'])\n",
        "# Expected Output\n",
        "# 138858\n",
        "# 1"
      ],
      "execution_count": 9,
      "outputs": [
        {
          "output_type": "stream",
          "text": [
            "138510\n",
            "1\n"
          ],
          "name": "stdout"
        }
      ]
    },
    {
      "cell_type": "code",
      "metadata": {
        "id": "C1zdgJkusRh0",
        "colab_type": "code",
        "outputId": "7ecc8573-04e0-44ce-8d4d-00a57a4bac07",
        "colab": {
          "base_uri": "https://localhost:8080/",
          "height": 208
        }
      },
      "source": [
        "# Note this is the 100 dimension version of GloVe from Stanford\n",
        "# I unzipped and hosted it on my site to make this notebook easier\n",
        "!wget --no-check-certificate \\\n",
        "    https://storage.googleapis.com/laurencemoroney-blog.appspot.com/glove.6B.100d.txt \\\n",
        "    -O /tmp/glove.6B.100d.txt\n",
        "embeddings_index = {};\n",
        "with open('/tmp/glove.6B.100d.txt') as f:\n",
        "    for line in f:\n",
        "        values = line.split();\n",
        "        word = values[0];\n",
        "        coefs = np.asarray(values[1:], dtype='float32');\n",
        "        embeddings_index[word] = coefs;\n",
        "\n",
        "embeddings_matrix = np.zeros((vocab_size+1, embedding_dim));\n",
        "for word, i in word_index.items():\n",
        "    embedding_vector = embeddings_index.get(word);\n",
        "    if embedding_vector is not None:\n",
        "        embeddings_matrix[i] = embedding_vector;"
      ],
      "execution_count": 10,
      "outputs": [
        {
          "output_type": "stream",
          "text": [
            "--2019-07-09 06:45:03--  https://storage.googleapis.com/laurencemoroney-blog.appspot.com/glove.6B.100d.txt\n",
            "Resolving storage.googleapis.com (storage.googleapis.com)... 74.125.133.128, 2a00:1450:400c:c06::80\n",
            "Connecting to storage.googleapis.com (storage.googleapis.com)|74.125.133.128|:443... connected.\n",
            "HTTP request sent, awaiting response... 200 OK\n",
            "Length: 347116733 (331M) [text/plain]\n",
            "Saving to: ‘/tmp/glove.6B.100d.txt’\n",
            "\n",
            "/tmp/glove.6B.100d. 100%[===================>] 331.04M  71.7MB/s    in 4.6s    \n",
            "\n",
            "2019-07-09 06:45:08 (71.7 MB/s) - ‘/tmp/glove.6B.100d.txt’ saved [347116733/347116733]\n",
            "\n"
          ],
          "name": "stdout"
        }
      ]
    },
    {
      "cell_type": "code",
      "metadata": {
        "id": "71NLk_lpFLNt",
        "colab_type": "code",
        "outputId": "c3fa9a0a-3581-4c2b-d971-84967fbec1ce",
        "colab": {
          "base_uri": "https://localhost:8080/",
          "height": 35
        }
      },
      "source": [
        "print(len(embeddings_matrix))\n",
        "# Expected Output\n",
        "# 138859"
      ],
      "execution_count": 11,
      "outputs": [
        {
          "output_type": "stream",
          "text": [
            "138511\n"
          ],
          "name": "stdout"
        }
      ]
    },
    {
      "cell_type": "code",
      "metadata": {
        "colab_type": "code",
        "id": "iKKvbuEBOGFz",
        "colab": {
          "base_uri": "https://localhost:8080/",
          "height": 1000
        },
        "outputId": "0c229663-da02-4a9f-c31a-8115f65017b8"
      },
      "source": [
        "model = tf.keras.Sequential([\n",
        "    tf.keras.layers.Embedding(vocab_size+1, embedding_dim, input_length=max_length, weights=[embeddings_matrix], trainable=False),\n",
        "    # YOUR CODE HERE - experiment with combining different types, such as convolutions and LSTMs\n",
        "    tf.keras.layers.Dropout(0.2),\n",
        "    tf.keras.layers.Conv1D(64, 5, activation='relu'),\n",
        "    tf.keras.layers.MaxPooling1D(pool_size=4),\n",
        "    tf.keras.layers.LSTM(64),\n",
        "    tf.keras.layers.Dense(1, activation='sigmoid')\n",
        "])\n",
        "model.compile(loss='binary_crossentropy', optimizer='adam', metrics=['accuracy'])# YOUR CODE HERE)\n",
        "model.summary()\n",
        "\n",
        "num_epochs = 50\n",
        "history = model.fit(training_sequences, training_labels, epochs=num_epochs, validation_data=(test_sequences, test_labels), verbose=2)\n",
        "\n",
        "print(\"Training Complete\")\n"
      ],
      "execution_count": 13,
      "outputs": [
        {
          "output_type": "stream",
          "text": [
            "W0709 06:51:42.274289 140022691620736 deprecation.py:323] From /usr/local/lib/python3.6/dist-packages/tensorflow/python/ops/nn_impl.py:180: add_dispatch_support.<locals>.wrapper (from tensorflow.python.ops.array_ops) is deprecated and will be removed in a future version.\n",
            "Instructions for updating:\n",
            "Use tf.where in 2.0, which has the same broadcast rule as np.where\n"
          ],
          "name": "stderr"
        },
        {
          "output_type": "stream",
          "text": [
            "Model: \"sequential_1\"\n",
            "_________________________________________________________________\n",
            "Layer (type)                 Output Shape              Param #   \n",
            "=================================================================\n",
            "embedding_1 (Embedding)      (None, 16, 100)           13851100  \n",
            "_________________________________________________________________\n",
            "dropout_1 (Dropout)          (None, 16, 100)           0         \n",
            "_________________________________________________________________\n",
            "conv1d_1 (Conv1D)            (None, 12, 64)            32064     \n",
            "_________________________________________________________________\n",
            "max_pooling1d_1 (MaxPooling1 (None, 3, 64)             0         \n",
            "_________________________________________________________________\n",
            "lstm_1 (LSTM)                (None, 64)                33024     \n",
            "_________________________________________________________________\n",
            "dense_1 (Dense)              (None, 1)                 65        \n",
            "=================================================================\n",
            "Total params: 13,916,253\n",
            "Trainable params: 65,153\n",
            "Non-trainable params: 13,851,100\n",
            "_________________________________________________________________\n",
            "Train on 144000 samples, validate on 16000 samples\n",
            "Epoch 1/50\n",
            "144000/144000 - 58s - loss: 0.5691 - acc: 0.6992 - val_loss: 0.5310 - val_acc: 0.7313\n",
            "Epoch 2/50\n",
            "144000/144000 - 55s - loss: 0.5287 - acc: 0.7311 - val_loss: 0.5381 - val_acc: 0.7304\n",
            "Epoch 3/50\n",
            "144000/144000 - 55s - loss: 0.5119 - acc: 0.7437 - val_loss: 0.5111 - val_acc: 0.7437\n",
            "Epoch 4/50\n",
            "144000/144000 - 53s - loss: 0.5008 - acc: 0.7508 - val_loss: 0.5071 - val_acc: 0.7487\n",
            "Epoch 5/50\n",
            "144000/144000 - 53s - loss: 0.4929 - acc: 0.7567 - val_loss: 0.5099 - val_acc: 0.7494\n",
            "Epoch 6/50\n",
            "144000/144000 - 53s - loss: 0.4855 - acc: 0.7615 - val_loss: 0.5054 - val_acc: 0.7496\n",
            "Epoch 7/50\n",
            "144000/144000 - 53s - loss: 0.4784 - acc: 0.7653 - val_loss: 0.5079 - val_acc: 0.7483\n",
            "Epoch 8/50\n",
            "144000/144000 - 53s - loss: 0.4737 - acc: 0.7681 - val_loss: 0.5051 - val_acc: 0.7498\n",
            "Epoch 9/50\n",
            "144000/144000 - 53s - loss: 0.4692 - acc: 0.7725 - val_loss: 0.5063 - val_acc: 0.7485\n",
            "Epoch 10/50\n",
            "144000/144000 - 52s - loss: 0.4658 - acc: 0.7744 - val_loss: 0.5156 - val_acc: 0.7472\n",
            "Epoch 11/50\n",
            "144000/144000 - 53s - loss: 0.4633 - acc: 0.7749 - val_loss: 0.5051 - val_acc: 0.7508\n",
            "Epoch 12/50\n",
            "144000/144000 - 53s - loss: 0.4594 - acc: 0.7775 - val_loss: 0.5191 - val_acc: 0.7477\n",
            "Epoch 13/50\n",
            "144000/144000 - 52s - loss: 0.4561 - acc: 0.7798 - val_loss: 0.5069 - val_acc: 0.7526\n",
            "Epoch 14/50\n",
            "144000/144000 - 53s - loss: 0.4558 - acc: 0.7806 - val_loss: 0.5054 - val_acc: 0.7536\n",
            "Epoch 15/50\n",
            "144000/144000 - 53s - loss: 0.4535 - acc: 0.7817 - val_loss: 0.5100 - val_acc: 0.7476\n",
            "Epoch 16/50\n",
            "144000/144000 - 53s - loss: 0.4501 - acc: 0.7816 - val_loss: 0.5070 - val_acc: 0.7536\n",
            "Epoch 17/50\n",
            "144000/144000 - 53s - loss: 0.4472 - acc: 0.7854 - val_loss: 0.5101 - val_acc: 0.7519\n",
            "Epoch 18/50\n",
            "144000/144000 - 53s - loss: 0.4473 - acc: 0.7847 - val_loss: 0.5120 - val_acc: 0.7545\n",
            "Epoch 19/50\n",
            "144000/144000 - 53s - loss: 0.4450 - acc: 0.7863 - val_loss: 0.5140 - val_acc: 0.7513\n",
            "Epoch 20/50\n",
            "144000/144000 - 53s - loss: 0.4454 - acc: 0.7865 - val_loss: 0.5127 - val_acc: 0.7474\n",
            "Epoch 21/50\n",
            "144000/144000 - 53s - loss: 0.4422 - acc: 0.7889 - val_loss: 0.5141 - val_acc: 0.7499\n",
            "Epoch 22/50\n",
            "144000/144000 - 53s - loss: 0.4415 - acc: 0.7895 - val_loss: 0.5197 - val_acc: 0.7477\n",
            "Epoch 23/50\n",
            "144000/144000 - 53s - loss: 0.4403 - acc: 0.7893 - val_loss: 0.5163 - val_acc: 0.7503\n",
            "Epoch 24/50\n",
            "144000/144000 - 53s - loss: 0.4398 - acc: 0.7893 - val_loss: 0.5143 - val_acc: 0.7499\n",
            "Epoch 25/50\n",
            "144000/144000 - 53s - loss: 0.4385 - acc: 0.7905 - val_loss: 0.5144 - val_acc: 0.7527\n",
            "Epoch 26/50\n",
            "144000/144000 - 54s - loss: 0.4375 - acc: 0.7915 - val_loss: 0.5155 - val_acc: 0.7460\n",
            "Epoch 27/50\n",
            "144000/144000 - 53s - loss: 0.4367 - acc: 0.7918 - val_loss: 0.5187 - val_acc: 0.7451\n",
            "Epoch 28/50\n",
            "144000/144000 - 53s - loss: 0.4374 - acc: 0.7909 - val_loss: 0.5202 - val_acc: 0.7450\n",
            "Epoch 29/50\n",
            "144000/144000 - 53s - loss: 0.4359 - acc: 0.7910 - val_loss: 0.5137 - val_acc: 0.7504\n",
            "Epoch 30/50\n",
            "144000/144000 - 53s - loss: 0.4347 - acc: 0.7930 - val_loss: 0.5186 - val_acc: 0.7492\n",
            "Epoch 31/50\n",
            "144000/144000 - 53s - loss: 0.4340 - acc: 0.7936 - val_loss: 0.5195 - val_acc: 0.7483\n",
            "Epoch 32/50\n",
            "144000/144000 - 53s - loss: 0.4334 - acc: 0.7933 - val_loss: 0.5188 - val_acc: 0.7498\n",
            "Epoch 33/50\n",
            "144000/144000 - 53s - loss: 0.4339 - acc: 0.7930 - val_loss: 0.5176 - val_acc: 0.7489\n",
            "Epoch 34/50\n",
            "144000/144000 - 53s - loss: 0.4337 - acc: 0.7936 - val_loss: 0.5141 - val_acc: 0.7490\n",
            "Epoch 35/50\n",
            "144000/144000 - 52s - loss: 0.4321 - acc: 0.7941 - val_loss: 0.5149 - val_acc: 0.7503\n",
            "Epoch 36/50\n",
            "144000/144000 - 52s - loss: 0.4328 - acc: 0.7938 - val_loss: 0.5165 - val_acc: 0.7526\n",
            "Epoch 37/50\n",
            "144000/144000 - 52s - loss: 0.4322 - acc: 0.7946 - val_loss: 0.5160 - val_acc: 0.7492\n",
            "Epoch 38/50\n",
            "144000/144000 - 53s - loss: 0.4313 - acc: 0.7932 - val_loss: 0.5169 - val_acc: 0.7489\n",
            "Epoch 39/50\n",
            "144000/144000 - 53s - loss: 0.4318 - acc: 0.7937 - val_loss: 0.5213 - val_acc: 0.7475\n",
            "Epoch 40/50\n",
            "144000/144000 - 53s - loss: 0.4310 - acc: 0.7949 - val_loss: 0.5205 - val_acc: 0.7526\n",
            "Epoch 41/50\n",
            "144000/144000 - 53s - loss: 0.4303 - acc: 0.7956 - val_loss: 0.5206 - val_acc: 0.7511\n",
            "Epoch 42/50\n",
            "144000/144000 - 53s - loss: 0.4300 - acc: 0.7959 - val_loss: 0.5213 - val_acc: 0.7480\n",
            "Epoch 43/50\n",
            "144000/144000 - 53s - loss: 0.4311 - acc: 0.7953 - val_loss: 0.5172 - val_acc: 0.7499\n",
            "Epoch 44/50\n",
            "144000/144000 - 53s - loss: 0.4285 - acc: 0.7966 - val_loss: 0.5270 - val_acc: 0.7492\n",
            "Epoch 45/50\n",
            "144000/144000 - 53s - loss: 0.4298 - acc: 0.7948 - val_loss: 0.5202 - val_acc: 0.7469\n",
            "Epoch 46/50\n",
            "144000/144000 - 53s - loss: 0.4291 - acc: 0.7961 - val_loss: 0.5214 - val_acc: 0.7495\n",
            "Epoch 47/50\n",
            "144000/144000 - 52s - loss: 0.4289 - acc: 0.7966 - val_loss: 0.5254 - val_acc: 0.7445\n",
            "Epoch 48/50\n",
            "144000/144000 - 52s - loss: 0.4295 - acc: 0.7955 - val_loss: 0.5196 - val_acc: 0.7441\n",
            "Epoch 49/50\n",
            "144000/144000 - 53s - loss: 0.4295 - acc: 0.7956 - val_loss: 0.5180 - val_acc: 0.7489\n",
            "Epoch 50/50\n",
            "144000/144000 - 53s - loss: 0.4261 - acc: 0.7985 - val_loss: 0.5252 - val_acc: 0.7457\n",
            "Training Complete\n"
          ],
          "name": "stdout"
        }
      ]
    },
    {
      "cell_type": "code",
      "metadata": {
        "id": "qxju4ItJKO8F",
        "colab_type": "code",
        "colab": {
          "base_uri": "https://localhost:8080/",
          "height": 608
        },
        "outputId": "6f3b9665-0100-4b99-c4d1-2897a5c677e6"
      },
      "source": [
        "import matplotlib.image  as mpimg\n",
        "import matplotlib.pyplot as plt\n",
        "\n",
        "#-----------------------------------------------------------\n",
        "# Retrieve a list of list results on training and test data\n",
        "# sets for each training epoch\n",
        "#-----------------------------------------------------------\n",
        "acc=history.history['acc']\n",
        "val_acc=history.history['val_acc']\n",
        "loss=history.history['loss']\n",
        "val_loss=history.history['val_loss']\n",
        "\n",
        "epochs=range(len(acc)) # Get number of epochs\n",
        "\n",
        "#------------------------------------------------\n",
        "# Plot training and validation accuracy per epoch\n",
        "#------------------------------------------------\n",
        "plt.plot(epochs, acc, 'r')\n",
        "plt.plot(epochs, val_acc, 'b')\n",
        "plt.title('Training and validation accuracy')\n",
        "plt.xlabel(\"Epochs\")\n",
        "plt.ylabel(\"Accuracy\")\n",
        "plt.legend([\"Accuracy\", \"Validation Accuracy\"])\n",
        "\n",
        "plt.figure()\n",
        "\n",
        "#------------------------------------------------\n",
        "# Plot training and validation loss per epoch\n",
        "#------------------------------------------------\n",
        "plt.plot(epochs, loss, 'r')\n",
        "plt.plot(epochs, val_loss, 'b')\n",
        "plt.title('Training and validation loss')\n",
        "plt.xlabel(\"Epochs\")\n",
        "plt.ylabel(\"Loss\")\n",
        "plt.legend([\"Loss\", \"Validation Loss\"])\n",
        "\n",
        "plt.figure()\n",
        "\n",
        "\n",
        "# Expected Output\n",
        "# A chart where the validation loss does not increase sharply!"
      ],
      "execution_count": 14,
      "outputs": [
        {
          "output_type": "execute_result",
          "data": {
            "text/plain": [
              "<Figure size 432x288 with 0 Axes>"
            ]
          },
          "metadata": {
            "tags": []
          },
          "execution_count": 14
        },
        {
          "output_type": "display_data",
          "data": {
            "image/png": "[encoded data removed]",
            "text/plain": [
              "<Figure size 432x288 with 1 Axes>"
            ]
          },
          "metadata": {
            "tags": []
          }
        },
        {
          "output_type": "display_data",
          "data": {
            "image/png": "[encoded data removed]",
            "text/plain": [
              "<Figure size 432x288 with 1 Axes>"
            ]
          },
          "metadata": {
            "tags": []
          }
        },
        {
          "output_type": "display_data",
          "data": {
            "text/plain": [
              "<Figure size 432x288 with 0 Axes>"
            ]
          },
          "metadata": {
            "tags": []
          }
        }
      ]
    },
    {
      "cell_type": "code",
      "metadata": {
        "id": "mkSek73XuZLx",
        "colab_type": "code",
        "colab": {}
      },
      "source": [
        ""
      ],
      "execution_count": 0,
      "outputs": []
    }
  ]
}